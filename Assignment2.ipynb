{
  "nbformat": 4,
  "nbformat_minor": 0,
  "metadata": {
    "colab": {
      "provenance": []
    },
    "kernelspec": {
      "name": "python3",
      "display_name": "Python 3"
    },
    "language_info": {
      "name": "python"
    }
  },
  "cells": [
    {
      "cell_type": "markdown",
      "source": [
        "\n",
        "**Data Types and Structures**"
      ],
      "metadata": {
        "id": "-0i2fngtRhEq"
      }
    },
    {
      "cell_type": "markdown",
      "source": [
        "**Q1:What are data structures, and why are they important?**\n",
        "\n",
        "Answer:\n",
        "Data structures are ways of organizing and storing data in a computer so that it can be accessed and used efficiently. They help manage large amounts of data and make programs faster and easier to work with.\n",
        "\n",
        "Data structures like lists, tuples, dictionaries, and sets are important in Python because they allow us to store, search, sort, and update data effectively."
      ],
      "metadata": {
        "id": "NiC-6PRiO0ZB"
      }
    },
    {
      "cell_type": "markdown",
      "source": [
        "**Q2:Explain the difference between mutable and immutable data types with examples.**\n",
        "\n",
        "Answer:In Python, mutable data types can be changed after they are created, while immutable data types cannot be changed once they are created.\n",
        "example of Mutable:\n",
        "\n",
        "a = [1, 2, 3]\n",
        "\n",
        "a[0] = 10        #list will be change (add) element in list\n",
        "\n",
        "example of immutable:\n",
        "\n",
        "b = (1, 2, 3)\n",
        "\n",
        "b[0] = 10    \n",
        "This will give an error and it will not add(update) new element in list\n",
        "\n",
        "Mutable types:  list, dictionary, set\n",
        "\n",
        "Immutable types:  int, float, string, tuple"
      ],
      "metadata": {
        "id": "XEXmr7TjO0XK"
      }
    },
    {
      "cell_type": "markdown",
      "source": [
        "**Q3: What are the main differences between lists and tuples in Python?**\n",
        "\n",
        "Answer: In Python, both lists and tuples are used to store multiple items in a single variable.\n",
        "The first and most important difference is that lists are mutable, which means we can change, add, or remove elements from a list after it is created. On the other hand, tuples are immutable, which means once a tuple is created, its elements cannot be changed.\n",
        "\n",
        "Lists are created using square brackets, such as [1, 2, 3], while tuples use round brackets, such as (1, 2, 3).\n",
        "\n",
        "Tuples are faster than lists in terms of performance because they are fixed and cannot be modified. This makes them more efficient when working with large or constant data.\n",
        "\n",
        "Lists are used when the data needs to change during the program, while tuples are used when the data should remain unchanged throughout the program.\n",
        "\n",
        "This makes both lists and tuples useful, depending on whether the data needs to be modified or kept constant."
      ],
      "metadata": {
        "id": "m-A2P-yeUY7B"
      }
    },
    {
      "cell_type": "markdown",
      "source": [
        "**Q4: Describe how dictionaries store data.**\n",
        "\n",
        "Answer:\n",
        "in Python, a dictionary stores data in the form of key-value pairs. Each key is unique, and it is used to access its corresponding value.\n",
        "Example:\n",
        "student = {\n",
        "  \"name\": \"Siya\",\n",
        "  \"age\": 20,\n",
        "  \"grade\": \"A\"\n",
        "}\n",
        "\n",
        "Here, \"name\", \"age\", and \"grade\" are keys, and their values are \"Siya\", 20, and \"A\".\n",
        "\n",
        "Dictionaries are useful when we want to store data that can be looked up using a unique key."
      ],
      "metadata": {
        "id": "6FdbM4MuO0TB"
      }
    },
    {
      "cell_type": "markdown",
      "source": [
        "**Q5:Why might you use a set instead of a list in Python?**\n",
        "\n",
        "Answer:\n",
        "\n",
        "A set is used when we want to store unique items only and do not care about the order. Unlike lists, sets do not allow duplicates and are faster for checking if an item exists.\n",
        "\n",
        "items = [1, 2, 2, 3]\n",
        "\n",
        "unique_items = set(items) #it will give Result:{1,2,3}\n",
        "\n",
        "We use a set instead of a list when:\n",
        "We need only unique elements,\n",
        "We want faster membership testing (in keyword)\n",
        "We don’t need to maintain order.\n"
      ],
      "metadata": {
        "id": "KkCE8B7QO0Ra"
      }
    },
    {
      "cell_type": "markdown",
      "source": [
        "**Q6: What is a string in Python, and how is it different from a list?**\n",
        "Answer:\n",
        "\n",
        "A string in Python is a sequence of characters enclosed in single, double, or triple quotes. For example, \"Hello\" is a string. A list, on the other hand, is a collection of items which can be of different data types and is enclosed in square brackets like [1, \"hello\", 3.5].\n",
        "\n",
        "The key difference is that strings are immutable, meaning they cannot be changed after creation, while lists are mutable and their elements can be modified, added, or removed.\n",
        "\n"
      ],
      "metadata": {
        "id": "pPnyXPGKO0OJ"
      }
    },
    {
      "cell_type": "markdown",
      "source": [
        "**Q7:How do tuples ensure data integrity in Python?**\n",
        "\n",
        "Answer:\n",
        "Tuples in Python are immutable, which means their values cannot be changed after they are created. This property helps ensure data integrity, as the data stored in a tuple remains constant and secure throughout the program. This makes tuples a good choice when storing fixed or sensitive data that should not be accidentally modified."
      ],
      "metadata": {
        "id": "JIKkncm3O0MB"
      }
    },
    {
      "cell_type": "markdown",
      "source": [
        "**Q8:What is a hash table, and how does it relate to dictionaries in Python?**\n",
        "\n",
        "Answer:\n",
        "\n",
        "A hash table is a data structure that stores data in key-value pairs and allows fast access to values based on unique keys. In Python, a dictionary is an implementation of a hash table. It stores data as {key: value} pairs and allows quick retrieval, insertion, and deletion using the key.\n",
        "\n"
      ],
      "metadata": {
        "id": "i_nHZuF5O0Hf"
      }
    },
    {
      "cell_type": "markdown",
      "source": [
        "**Q9:Can lists contain different data types in Python?**\n",
        "\n",
        "Answer:\n",
        "Yes, Python lists can contain elements of different data types. For example, a list can include integers, strings, floats, and even other lists or objects. This flexibility makes lists very useful for storing mixed data in one place.\n",
        "\n",
        "Example:mixed_list = [10, \"apple\", 3.14, True]\n"
      ],
      "metadata": {
        "id": "wu-3FKBiO0F4"
      }
    },
    {
      "cell_type": "markdown",
      "source": [
        "**Q10:Explain why strings are immutable in Python.**\n",
        "\n",
        "Answer:\n",
        "\n",
        "Strings are immutable in Python to make them more secure and efficient. Since their content cannot be changed after creation, they are safer to use in programs where constant values are needed. Immutability also helps in memory management and improves performance when strings are reused.\n",
        "\n"
      ],
      "metadata": {
        "id": "oT62MIfgO0CC"
      }
    },
    {
      "cell_type": "markdown",
      "source": [
        "**Q11:What advantages do dictionaries offer over lists for certain tasks?**\n",
        "\n",
        "Answer:\n",
        "Dictionaries provide several advantages over lists when working with key-based data. Unlike lists, which use numeric indexes, dictionaries use keys to access values, making the data more meaningful and easier to retrieve.\n",
        "\n",
        "Dictionaries are more efficient than lists when searching for a specific item using a key because they use a hash table internally, which allows faster access. They are also helpful when storing structured data, where each item has a name or category.\n",
        "dictionaries are better for organizing data with clear labels and for quick access using keys.\n",
        "\n",
        "\n"
      ],
      "metadata": {
        "id": "ZyH-xgARO0AM"
      }
    },
    {
      "cell_type": "markdown",
      "source": [
        "**Q12:Describe a scenario where using a tuple would be preferable over a list**\n",
        "\n",
        "Answer:\n",
        "\n",
        "Tuples are preferable when we want to store fixed data that should not be changed. For example, storing the coordinates of a location like (25.5, 75.3) is best done using a tuple because the values represent a constant position and should not be modified. Using a tuple helps protect such data from accidental changes."
      ],
      "metadata": {
        "id": "qXGKNmH2Oz7A"
      }
    },
    {
      "cell_type": "markdown",
      "source": [
        "**Q13:How do sets handle duplicate values in Python?**\n",
        "\n",
        "Answer:\n",
        "\n",
        "Sets in Python automatically remove duplicate values. When you add items to a set,any repeated values are ignored, and only unique elements are stored. This makes sets useful for tasks where uniqueness is important, such as finding distinct items in a list.\n",
        "Example:\n",
        "set_example = {1, 2, 2, 3} #Result:{1, 2, 3}\n"
      ],
      "metadata": {
        "id": "jwvWOk6cOz5f"
      }
    },
    {
      "cell_type": "markdown",
      "source": [
        "**Q14:How does the “in” keyword work differently for lists and dictionaries?**\n",
        "\n",
        "Answer:\n",
        "\n",
        "In a list, the (in) keyword checks if a specific value exists in the list.\n",
        "\n",
        "In a dictionary, the in keyword checks only for the presence of a key, not the value.\n",
        "\n",
        "Example:#List=[1, 2, 3]\n",
        "2 in list it will give True\n",
        "\n",
        "Dictionary={\"a\": 1, \"b\": 2}\n",
        "\"a\" in dict this will give True\n",
        "2 in dict it will give False (because 2 is a value, not a key)\n"
      ],
      "metadata": {
        "id": "ZlhErsGmOz1k"
      }
    },
    {
      "cell_type": "markdown",
      "source": [
        "**Q15:Can you modify the elements of a tuple? Explain why or why not**\n",
        "\n",
        "Answer:\n",
        "\n",
        "No, we cannot modify the elements of a tuple. Tuples are immutable, which means their values cannot be changed, added, or removed after they are created. This property is useful for storing constant or fixed data that should remain the same throughout the program.\n",
        "\n"
      ],
      "metadata": {
        "id": "5Gr_Y-lkOzzy"
      }
    },
    {
      "cell_type": "markdown",
      "source": [
        "**Q16:What is a nested dictionary, and give an example of its use case**\n",
        "\n",
        "Answer:\n",
        "A nested dictionary is a dictionary that contains another dictionary as its value. It is used to store structured data in a hierarchical form.\n",
        "\n",
        "Example use case:\n",
        "storing student details by ID:\n",
        "\n",
        "students = {\n",
        "  101: {\"name\": \"Ravi\", \"age\": 20},\n",
        "  102: {\"name\": \"Anita\", \"age\": 19}}\n",
        "This allows easy access to each student's information using their ID.\n",
        "\n",
        "\n"
      ],
      "metadata": {
        "id": "4Ku8kC3DOzu7"
      }
    },
    {
      "cell_type": "markdown",
      "source": [
        "**Q17:Describe the time complexity of accessing elements in a dictionary**\n",
        "\n",
        "Answer:\n",
        "Accessing elements in a dictionary has a time complexity of O(1) on average. This means that retrieving a value using a key takes constant time, regardless of the size of the dictionary. This fast access is possible because dictionaries use a hash table internally.\n",
        "\n"
      ],
      "metadata": {
        "id": "OKBy8xm5Oztc"
      }
    },
    {
      "cell_type": "markdown",
      "source": [
        "**Q18:In what situations are lists preferred over dictionaries**\n",
        "\n",
        "Answer:\n",
        "\n",
        "Lists are preferred when the data is ordered and indexed by position, rather than by a name or label. They are useful when we need to store items in a sequence and access them using their index number.\n",
        "\n",
        "For example, when storing a list of marks, names in order, or daily temperatures, a list is easier to use. Lists are also helpful when the relationship between elements is not based on a key–value format."
      ],
      "metadata": {
        "id": "SYsPKJEdOzk-"
      }
    },
    {
      "cell_type": "markdown",
      "source": [
        "**Q19:Why are dictionaries considered unordered, and how does that affect data retrieval?**\n",
        "Answer:\n",
        "\n",
        "Dictionaries are considered unordered because they do not store items in a fixed sequence like lists do. Instead, items are stored based on their keys, and their position in memory can change.\n",
        "\n",
        "This means we cannot rely on the order of items while retrieving data from a dictionary. However, since dictionaries use keys for access, we can quickly retrieve values as long as we know the key — regardless of the order."
      ],
      "metadata": {
        "id": "57FjeF3IOzhF"
      }
    },
    {
      "cell_type": "markdown",
      "source": [
        "**Q20:Explain the difference between a list and a dictionary in terms of data retrieval.**\n",
        "\n",
        "Answer:\n",
        "In a list, data is retrieved using an index number that represents the position of the item in the list. For example, list[0] gives the first item.\n",
        "\n",
        "In a dictionary, data is retrieved using a key, which is more descriptive and meaningful. For example, dict[\"name\"] gives the value linked to the key \"name\".\n",
        "\n",
        "While lists are better for sequential data, dictionaries are more useful when we need to associate values with unique identifiers.\n",
        "\n"
      ],
      "metadata": {
        "id": "ak2SNDhAefci"
      }
    },
    {
      "cell_type": "code",
      "source": [
        "#Q.1 Write a code to create a string with your name and print it.\n",
        "name=\"sayali Tiwari\"\n",
        "print(\"My name is:\",name)\n"
      ],
      "metadata": {
        "id": "EXHAXIHpRrNC",
        "colab": {
          "base_uri": "https://localhost:8080/"
        },
        "outputId": "bfcb1ddf-dee6-49c5-99d8-61899019b6f1"
      },
      "execution_count": 1,
      "outputs": [
        {
          "output_type": "stream",
          "name": "stdout",
          "text": [
            "My name is: sayali Tiwari\n"
          ]
        }
      ]
    },
    {
      "cell_type": "code",
      "source": [
        "#Q.2 Write a code to find the length of the string \"Hello World\"\n",
        "s=\"Hello world\"\n",
        "len(s)"
      ],
      "metadata": {
        "colab": {
          "base_uri": "https://localhost:8080/"
        },
        "id": "rUrkVs5nTf6w",
        "outputId": "6ab75c64-306d-48bc-b9ac-59e4d14c4c8b"
      },
      "execution_count": 2,
      "outputs": [
        {
          "output_type": "execute_result",
          "data": {
            "text/plain": [
              "11"
            ]
          },
          "metadata": {},
          "execution_count": 2
        }
      ]
    },
    {
      "cell_type": "code",
      "source": [
        "#Q.3 Write a code to slice the first 3 characters from the string \"Python Programming\"\n",
        "a=\"Python Programming\"\n",
        "a[0:3]"
      ],
      "metadata": {
        "colab": {
          "base_uri": "https://localhost:8080/",
          "height": 36
        },
        "id": "mzxXZZGsTf5r",
        "outputId": "18ecd04e-ea88-444b-e504-039711addd29"
      },
      "execution_count": 3,
      "outputs": [
        {
          "output_type": "execute_result",
          "data": {
            "text/plain": [
              "'Pyt'"
            ],
            "application/vnd.google.colaboratory.intrinsic+json": {
              "type": "string"
            }
          },
          "metadata": {},
          "execution_count": 3
        }
      ]
    },
    {
      "cell_type": "code",
      "source": [
        "#Q.4 Write a code to convert the string \"hello\" to uppercase\n",
        "a=\"hello\"\n",
        "a.upper()\n"
      ],
      "metadata": {
        "colab": {
          "base_uri": "https://localhost:8080/",
          "height": 36
        },
        "id": "jbVRkAXCTf1G",
        "outputId": "1b95462c-15d0-470c-d2aa-89a5ba62ef62"
      },
      "execution_count": 4,
      "outputs": [
        {
          "output_type": "execute_result",
          "data": {
            "text/plain": [
              "'HELLO'"
            ],
            "application/vnd.google.colaboratory.intrinsic+json": {
              "type": "string"
            }
          },
          "metadata": {},
          "execution_count": 4
        }
      ]
    },
    {
      "cell_type": "code",
      "source": [
        "#Q.5 Write a code to replace the word \"apple\" with \"orange\" in the string \"I like apple\"\n",
        "b=\"I like apple\"\n",
        "b.replace(\"apple\",\"orange\")"
      ],
      "metadata": {
        "colab": {
          "base_uri": "https://localhost:8080/",
          "height": 36
        },
        "id": "ZMYKIlqaTfz-",
        "outputId": "c0b359e1-ee45-465a-f3ed-1cd060db69a2"
      },
      "execution_count": 5,
      "outputs": [
        {
          "output_type": "execute_result",
          "data": {
            "text/plain": [
              "'I like orange'"
            ],
            "application/vnd.google.colaboratory.intrinsic+json": {
              "type": "string"
            }
          },
          "metadata": {},
          "execution_count": 5
        }
      ]
    },
    {
      "cell_type": "code",
      "source": [
        "#Q.6 Write a code to create a list with numbers 1 to 5 and print it\n",
        "n=[1,2,3,4,5]\n",
        "print(n)"
      ],
      "metadata": {
        "colab": {
          "base_uri": "https://localhost:8080/"
        },
        "id": "jG0z4KNkTfvv",
        "outputId": "e7937cae-5011-4d26-b83b-c985be98e690"
      },
      "execution_count": 6,
      "outputs": [
        {
          "output_type": "stream",
          "name": "stdout",
          "text": [
            "[1, 2, 3, 4, 5]\n"
          ]
        }
      ]
    },
    {
      "cell_type": "code",
      "source": [
        "# Q.7 Write a code to append the number 10 to the list [1, 2, 3, 4]\n",
        "list=[1,2,3,4]\n",
        "list.append(10)\n",
        "list\n"
      ],
      "metadata": {
        "colab": {
          "base_uri": "https://localhost:8080/"
        },
        "id": "p1wEIH8HTfua",
        "outputId": "db8cb7fe-b83c-4445-f8d4-a8fa58361b4e"
      },
      "execution_count": 7,
      "outputs": [
        {
          "output_type": "execute_result",
          "data": {
            "text/plain": [
              "[1, 2, 3, 4, 10]"
            ]
          },
          "metadata": {},
          "execution_count": 7
        }
      ]
    },
    {
      "cell_type": "code",
      "source": [
        "# Q.8 Write a code to remove the number 3 from the list [1, 2, 3, 4, 5]\n",
        "list=[1,2,3,4,5]\n",
        "list.remove(3)\n",
        "list\n"
      ],
      "metadata": {
        "colab": {
          "base_uri": "https://localhost:8080/"
        },
        "id": "uLPKnsYMTfqR",
        "outputId": "84c4e5a0-0a3c-43c2-aa2a-08e1ed5ceb47"
      },
      "execution_count": 8,
      "outputs": [
        {
          "output_type": "execute_result",
          "data": {
            "text/plain": [
              "[1, 2, 4, 5]"
            ]
          },
          "metadata": {},
          "execution_count": 8
        }
      ]
    },
    {
      "cell_type": "code",
      "source": [
        "#Q.9 Write a code to access the second element in the list ['a', 'b', 'c', 'd']\n",
        "list=['a','b','c','d']\n",
        "list[1]\n"
      ],
      "metadata": {
        "colab": {
          "base_uri": "https://localhost:8080/",
          "height": 36
        },
        "id": "-JmawBBiTfoz",
        "outputId": "d0cd22bd-adc2-4168-b5c0-454e8b5b97a4"
      },
      "execution_count": 9,
      "outputs": [
        {
          "output_type": "execute_result",
          "data": {
            "text/plain": [
              "'b'"
            ],
            "application/vnd.google.colaboratory.intrinsic+json": {
              "type": "string"
            }
          },
          "metadata": {},
          "execution_count": 9
        }
      ]
    },
    {
      "cell_type": "code",
      "source": [
        "#Q.10 Write a code to reverse the list [10, 20, 30, 40, 50].\n",
        "#first method\n",
        "list=[10,20,30,40,50]\n",
        "list[::-1]"
      ],
      "metadata": {
        "colab": {
          "base_uri": "https://localhost:8080/"
        },
        "id": "Dy1BI3bqTfke",
        "outputId": "0dedcf7c-db15-4a52-b81c-13497b47f5a3"
      },
      "execution_count": 10,
      "outputs": [
        {
          "output_type": "execute_result",
          "data": {
            "text/plain": [
              "[50, 40, 30, 20, 10]"
            ]
          },
          "metadata": {},
          "execution_count": 10
        }
      ]
    },
    {
      "cell_type": "code",
      "source": [
        "#second method\n",
        "list=[10,20,30,40,50]\n",
        "list.reverse()\n",
        "list"
      ],
      "metadata": {
        "colab": {
          "base_uri": "https://localhost:8080/"
        },
        "id": "tdYxrou3Tfiz",
        "outputId": "b9d904d4-baa6-476a-eb36-ab5940b96f40"
      },
      "execution_count": 11,
      "outputs": [
        {
          "output_type": "execute_result",
          "data": {
            "text/plain": [
              "[50, 40, 30, 20, 10]"
            ]
          },
          "metadata": {},
          "execution_count": 11
        }
      ]
    },
    {
      "cell_type": "code",
      "source": [
        "#Q.11.Write a code to create a tuple with the elements 100, 200, 300 and print it.\n",
        "tuple=(100,200,300)\n",
        "print(tuple)"
      ],
      "metadata": {
        "colab": {
          "base_uri": "https://localhost:8080/"
        },
        "id": "MN0l1wR6YqZc",
        "outputId": "71715996-16aa-4a10-8d9e-07f655e4fde1"
      },
      "execution_count": 12,
      "outputs": [
        {
          "output_type": "stream",
          "name": "stdout",
          "text": [
            "(100, 200, 300)\n"
          ]
        }
      ]
    },
    {
      "cell_type": "code",
      "source": [
        "#Q.12.Write a code to access the second-to-last element of the tuple ('red', 'green', 'blue', 'yellow').\n",
        "t1=('red', 'green', 'blue', 'yellow')\n",
        "print (t1[-2])"
      ],
      "metadata": {
        "colab": {
          "base_uri": "https://localhost:8080/"
        },
        "id": "kDbvtImSZGHy",
        "outputId": "ef408b9b-c4c8-4ab0-b969-259b0c489da5"
      },
      "execution_count": 13,
      "outputs": [
        {
          "output_type": "stream",
          "name": "stdout",
          "text": [
            "blue\n"
          ]
        }
      ]
    },
    {
      "cell_type": "code",
      "source": [
        "#Q.13.Write a code to find the minimum number in the tuple (10, 20, 5, 15).\n",
        "tuple=(10, 20, 5, 15)\n",
        "min(tuple)"
      ],
      "metadata": {
        "colab": {
          "base_uri": "https://localhost:8080/"
        },
        "id": "Z94DDDWnZGDj",
        "outputId": "3a1cdfb3-deff-4113-a380-e007fcefd762"
      },
      "execution_count": 14,
      "outputs": [
        {
          "output_type": "execute_result",
          "data": {
            "text/plain": [
              "5"
            ]
          },
          "metadata": {},
          "execution_count": 14
        }
      ]
    },
    {
      "cell_type": "code",
      "source": [
        "#Q.14.Write a code to find the index of the element \"cat\" in the tuple ('dog', 'cat', 'rabbit').\n",
        "tuple=('dog', 'cat', 'rabbit')\n",
        "tuple.index(\"cat\")"
      ],
      "metadata": {
        "colab": {
          "base_uri": "https://localhost:8080/"
        },
        "id": "YdrONyZxZF9c",
        "outputId": "4eb4e2a2-b47b-40a9-f86a-caa79cd38062"
      },
      "execution_count": 15,
      "outputs": [
        {
          "output_type": "execute_result",
          "data": {
            "text/plain": [
              "1"
            ]
          },
          "metadata": {},
          "execution_count": 15
        }
      ]
    },
    {
      "cell_type": "code",
      "source": [
        "#Q.15.Write a code to create a tuple containing three different fruits and check if \"kiwi\" is in it.\n",
        "t1=input(\"Enter name of fruits\")\n",
        "if \"kiwi\" in t1:\n",
        "  print(\"kiwi is present\")\n",
        "else:\n",
        "  print(\"kiwi is not present\")\n"
      ],
      "metadata": {
        "colab": {
          "base_uri": "https://localhost:8080/"
        },
        "id": "y7WmE6b7ZFu8",
        "outputId": "7f6fe96c-5fdd-4780-cf88-87301dc48a3c"
      },
      "execution_count": 16,
      "outputs": [
        {
          "output_type": "stream",
          "name": "stdout",
          "text": [
            "Enter name of fruitsapple, orange,banana\n",
            "kiwi is not present\n"
          ]
        }
      ]
    },
    {
      "cell_type": "code",
      "source": [
        "#Q.16.Write a code to create a set with the elements 'a', 'b', 'c' and print it.\n",
        "s={'a','b','c'}\n",
        "s"
      ],
      "metadata": {
        "colab": {
          "base_uri": "https://localhost:8080/"
        },
        "id": "x2AlGl8XexAR",
        "outputId": "e9fcf7b8-50e6-4b33-9e7c-b4bedc222e4d"
      },
      "execution_count": 17,
      "outputs": [
        {
          "output_type": "execute_result",
          "data": {
            "text/plain": [
              "{'a', 'b', 'c'}"
            ]
          },
          "metadata": {},
          "execution_count": 17
        }
      ]
    },
    {
      "cell_type": "code",
      "source": [
        "#Q.17.Write a code to clear all elements from the set {1, 2, 3, 4, 5}.\n",
        "set={1, 2, 3, 4, 5}\n",
        "set.clear()"
      ],
      "metadata": {
        "id": "1YHoYwQ8flHJ"
      },
      "execution_count": 18,
      "outputs": []
    },
    {
      "cell_type": "code",
      "source": [
        "set"
      ],
      "metadata": {
        "colab": {
          "base_uri": "https://localhost:8080/"
        },
        "id": "ngVtjG6Hfwcr",
        "outputId": "21be3467-96d4-457d-e1df-53e120e69a42"
      },
      "execution_count": 19,
      "outputs": [
        {
          "output_type": "execute_result",
          "data": {
            "text/plain": [
              "set()"
            ]
          },
          "metadata": {},
          "execution_count": 19
        }
      ]
    },
    {
      "cell_type": "code",
      "source": [
        "#Q.18.Write a code to remove the element 4 from the set {1, 2, 3, 4}.\n",
        "set = {1, 2, 3, 4}\n",
        "set.remove(4)\n",
        "set"
      ],
      "metadata": {
        "colab": {
          "base_uri": "https://localhost:8080/"
        },
        "id": "0bv6t-H7f51k",
        "outputId": "c58244b0-e744-4f31-974d-4d23cd2dc4ea"
      },
      "execution_count": 20,
      "outputs": [
        {
          "output_type": "execute_result",
          "data": {
            "text/plain": [
              "{1, 2, 3}"
            ]
          },
          "metadata": {},
          "execution_count": 20
        }
      ]
    },
    {
      "cell_type": "code",
      "source": [
        "#Q.19. Write a code to find the union of two sets {1, 2, 3} and {3, 4, 5}.\n",
        "a={1,2,3}\n",
        "b={3,4,5}\n",
        "a|b"
      ],
      "metadata": {
        "colab": {
          "base_uri": "https://localhost:8080/"
        },
        "id": "kxsBfoR2gUXV",
        "outputId": "d336e7ce-068d-483d-cd78-215be5f21e50"
      },
      "execution_count": 21,
      "outputs": [
        {
          "output_type": "execute_result",
          "data": {
            "text/plain": [
              "{1, 2, 3, 4, 5}"
            ]
          },
          "metadata": {},
          "execution_count": 21
        }
      ]
    },
    {
      "cell_type": "code",
      "source": [
        "#Q.20.Write a code to find the intersection of two sets {1, 2, 3} and {2, 3, 4}.\n",
        "a={1,2,3}\n",
        "b={2,3,4}\n",
        "a&b"
      ],
      "metadata": {
        "colab": {
          "base_uri": "https://localhost:8080/"
        },
        "id": "sQrJlwCLhYLZ",
        "outputId": "87f62685-dbb7-4c45-d863-392a8a594a22"
      },
      "execution_count": 22,
      "outputs": [
        {
          "output_type": "execute_result",
          "data": {
            "text/plain": [
              "{2, 3}"
            ]
          },
          "metadata": {},
          "execution_count": 22
        }
      ]
    },
    {
      "cell_type": "code",
      "source": [
        "#Q.21. Write a code to create a dictionary with the keys \"name\", \"age\", and \"city\", and print it.\n",
        "d={\"Name\":\"Sayali\",\"Age\":21,\"City\":\"Ujjain\"}\n",
        "d"
      ],
      "metadata": {
        "colab": {
          "base_uri": "https://localhost:8080/"
        },
        "id": "-V2AJpc0hwIF",
        "outputId": "67880e0f-1f3b-4898-f3c2-faa0391409bf"
      },
      "execution_count": 23,
      "outputs": [
        {
          "output_type": "execute_result",
          "data": {
            "text/plain": [
              "{'Name': 'Sayali', 'Age': 21, 'City': 'Ujjain'}"
            ]
          },
          "metadata": {},
          "execution_count": 23
        }
      ]
    },
    {
      "cell_type": "code",
      "source": [
        "#Q.22.Write a code to add a new key-value pair \"country\": \"USA\" to the dictionary {'name': 'John', 'age': 25}.\n",
        "dictionary={'name': 'John', 'age': 25}\n",
        "dictionary.update ({\"countary\":\"USA\"})\n",
        "dictionary"
      ],
      "metadata": {
        "colab": {
          "base_uri": "https://localhost:8080/"
        },
        "id": "5_-0WUJphwGq",
        "outputId": "6175ad0f-e1e2-4ceb-e768-360328a0f6f6"
      },
      "execution_count": 24,
      "outputs": [
        {
          "output_type": "execute_result",
          "data": {
            "text/plain": [
              "{'name': 'John', 'age': 25, 'countary': 'USA'}"
            ]
          },
          "metadata": {},
          "execution_count": 24
        }
      ]
    },
    {
      "cell_type": "code",
      "source": [
        "#Q.23.Write a code to access the value associated with the key \"name\" in the dictionary {'name': 'Alice', 'age': 30}.\n",
        "d1={'name': 'Alice', 'age': 30}\n",
        "d1['name']\n"
      ],
      "metadata": {
        "colab": {
          "base_uri": "https://localhost:8080/",
          "height": 36
        },
        "id": "EMRCdqV1hwCk",
        "outputId": "55668391-e41c-4c42-f6af-c4e10c446231"
      },
      "execution_count": 25,
      "outputs": [
        {
          "output_type": "execute_result",
          "data": {
            "text/plain": [
              "'Alice'"
            ],
            "application/vnd.google.colaboratory.intrinsic+json": {
              "type": "string"
            }
          },
          "metadata": {},
          "execution_count": 25
        }
      ]
    },
    {
      "cell_type": "code",
      "source": [
        "#second method\n",
        "d1.get('name')"
      ],
      "metadata": {
        "colab": {
          "base_uri": "https://localhost:8080/",
          "height": 36
        },
        "id": "ua-tiOtmhwBa",
        "outputId": "ac0ad302-9bd6-433d-8981-9a969f7d4a09"
      },
      "execution_count": 26,
      "outputs": [
        {
          "output_type": "execute_result",
          "data": {
            "text/plain": [
              "'Alice'"
            ],
            "application/vnd.google.colaboratory.intrinsic+json": {
              "type": "string"
            }
          },
          "metadata": {},
          "execution_count": 26
        }
      ]
    },
    {
      "cell_type": "code",
      "source": [
        "#Q.24.Write a code to remove the key \"age\" from the dictionary {'name': 'Bob', 'age': 22, 'city': 'New York'}.\n",
        "d2={'name': 'Bob', 'age': 22, 'city': 'New York'}\n",
        "d2.pop('age')\n",
        "d2"
      ],
      "metadata": {
        "colab": {
          "base_uri": "https://localhost:8080/"
        },
        "id": "7GDoKKhUhv09",
        "outputId": "85142d39-861b-4608-84bd-1476168a6210"
      },
      "execution_count": 27,
      "outputs": [
        {
          "output_type": "execute_result",
          "data": {
            "text/plain": [
              "{'name': 'Bob', 'city': 'New York'}"
            ]
          },
          "metadata": {},
          "execution_count": 27
        }
      ]
    },
    {
      "cell_type": "code",
      "source": [
        "#Q.25.Write a code to check if the key \"city\" exists in the dictionary {'name': 'Alice', 'city': 'Paris'}.\n",
        "d={\"name\":\"Alice\",\"city\":\"Paris\"}\n",
        "if \"city\" in d:\n",
        "  print(\"city is present\")\n",
        "else:\n",
        "  print(\"city is not present\")"
      ],
      "metadata": {
        "colab": {
          "base_uri": "https://localhost:8080/"
        },
        "id": "2zmKeH7ylOlJ",
        "outputId": "86c30714-5dc3-48ae-fa57-ecfed51781fc"
      },
      "execution_count": 28,
      "outputs": [
        {
          "output_type": "stream",
          "name": "stdout",
          "text": [
            "city is present\n"
          ]
        }
      ]
    },
    {
      "cell_type": "code",
      "source": [
        "#Q.26.Write a code to create a list, a tuple, and a dictionary, and print them all.\n",
        "My_list=[1,2,3,4,5]\n",
        "My_tuple=(1,2,3,4,5)\n",
        "My_dict={\"dad\":\"1234\",\"mom\":\"567\"}\n",
        "print(\"list:\",My_list)\n",
        "print(\"tuple:\",My_tuple)\n",
        "print(\"dict:\",My_dict)\n"
      ],
      "metadata": {
        "colab": {
          "base_uri": "https://localhost:8080/"
        },
        "id": "_B4M3T2vlOj2",
        "outputId": "bd3e665a-c948-404f-f37d-11d5ba1bb7c3"
      },
      "execution_count": 29,
      "outputs": [
        {
          "output_type": "stream",
          "name": "stdout",
          "text": [
            "list: [1, 2, 3, 4, 5]\n",
            "tuple: (1, 2, 3, 4, 5)\n",
            "dict: {'dad': '1234', 'mom': '567'}\n"
          ]
        }
      ]
    },
    {
      "cell_type": "code",
      "source": [
        "#Q.27.Write a code to create a list of 5 random numbers between 1 and 100, sort it in ascending order, and print the\n",
        "#result.(replaced)\n",
        "numbers = [78, 12, 45, 3, 66]\n",
        "numbers.sort()\n",
        "print(\"Sorted accending numbers:\", numbers)\n",
        "\n"
      ],
      "metadata": {
        "colab": {
          "base_uri": "https://localhost:8080/"
        },
        "id": "tvPIkV1AlOfz",
        "outputId": "988667e9-4963-4efc-977e-9cd10dd1ce27"
      },
      "execution_count": 30,
      "outputs": [
        {
          "output_type": "stream",
          "name": "stdout",
          "text": [
            "Sorted accending numbers: [3, 12, 45, 66, 78]\n"
          ]
        }
      ]
    },
    {
      "cell_type": "code",
      "source": [
        "#Q.28.Write a code to create a list with strings and print the element at the third index.\n",
        "lis1=[\"ram\",\"shyam\",\"umesh\",\"shivansh\",\"mohan\"]\n",
        "lis1[3]"
      ],
      "metadata": {
        "colab": {
          "base_uri": "https://localhost:8080/",
          "height": 36
        },
        "id": "54w5m16KlOeZ",
        "outputId": "3a316138-743e-4d6c-9c9b-d35a92f3aeb8"
      },
      "execution_count": 31,
      "outputs": [
        {
          "output_type": "execute_result",
          "data": {
            "text/plain": [
              "'shivansh'"
            ],
            "application/vnd.google.colaboratory.intrinsic+json": {
              "type": "string"
            }
          },
          "metadata": {},
          "execution_count": 31
        }
      ]
    },
    {
      "cell_type": "code",
      "source": [
        "#Q.29.Write a code to combine two dictionaries into one and print the result.\n",
        "name_of_students=[\"shivam\",\"ram\",\"shyam\",\"mohan\"]\n",
        "marks=[75,82,92,65]\n",
        "student_marks={}\n",
        "for student,mark in zip(name_of_students,marks):\n",
        "  student_marks[student]=mark\n",
        "print(student_marks)"
      ],
      "metadata": {
        "colab": {
          "base_uri": "https://localhost:8080/"
        },
        "id": "PkeC2oTJDuoW",
        "outputId": "6822919e-67c6-408a-fddd-d3f0ac562122"
      },
      "execution_count": 33,
      "outputs": [
        {
          "output_type": "stream",
          "name": "stdout",
          "text": [
            "{'shivam': 75, 'ram': 82, 'shyam': 92, 'mohan': 65}\n"
          ]
        }
      ]
    },
    {
      "cell_type": "code",
      "metadata": {
        "colab": {
          "base_uri": "https://localhost:8080/"
        },
        "id": "315ec1cd",
        "outputId": "649566f1-4735-4adb-feaa-c71678423599"
      },
      "source": [
        "#Q.30. Write a code to convert a list of strings into a set.\n",
        "fruits_list=[\"orange\",\"kiwi\",\"apple\",\"bannana\"]\n",
        "fruits_set = set(fruits_list)\n",
        "print(fruits_set)"
      ],
      "execution_count": 2,
      "outputs": [
        {
          "output_type": "stream",
          "name": "stdout",
          "text": [
            "{'bannana', 'orange', 'kiwi', 'apple'}\n"
          ]
        }
      ]
    }
  ]
}